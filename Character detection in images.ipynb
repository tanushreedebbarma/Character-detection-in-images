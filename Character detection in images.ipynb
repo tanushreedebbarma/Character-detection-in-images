{
 "cells": [
  {
   "cell_type": "code",
   "execution_count": 33,
   "id": "ef8ac14b",
   "metadata": {},
   "outputs": [],
   "source": [
    "# Import Packages\n",
    "import cv2\n",
    "import pytesseract\n",
    "\n",
    "# Specify tesseract-OCR location path in your system\n",
    "pytesseract.pytesseract.tesseract_cmd =  'C:\\\\Program Files (x86)\\\\Tesseract-OCR\\\\tesseract.exe'\n",
    "\n",
    "# Read image\n",
    "img = cv2.imread(\"spirit.jpg\")\n",
    "\n",
    "# Convert image to gray scale\n",
    "grayImage = cv2.cvtColor(img, cv2.COLOR_BGR2GRAY)\n",
    "\n",
    "# Otsu's thresholding after Gaussian filtering\n",
    "blur = cv2.GaussianBlur(grayImage,(5,5),0)\n",
    "ret,thresh1 = cv2.threshold(blur,0,255,cv2.THRESH_BINARY_INV+cv2.THRESH_OTSU)\n",
    "\n",
    "# Specify structure shape and kernel size\n",
    "rect_kernel = cv2.getStructuringElement(cv2.MORPH_RECT, (20, 20))\n",
    "\n",
    "# Apply dilation on the threshold image\n",
    "dilation = cv2.dilate(thresh1, rect_kernel, iterations = 1)\n",
    "\n",
    "# Find contours\n",
    "contours, hierarchy = cv2.findContours(dilation, cv2.RETR_EXTERNAL,\n",
    "                                                 cv2.CHAIN_APPROX_NONE)\n",
    "\n",
    "# Create copy of the image\n",
    "img2 = img.copy()\n",
    "\n",
    "# A text file created and flushed\n",
    "file = open(\"extracted.txt\", \"w+\")\n",
    "file.write(\"\")\n",
    "file.close\n",
    "\n",
    "# Looping through the identified contours\n",
    "for cnt in contours:\n",
    "    x, y, w, h = cv2.boundingRect(cnt)\n",
    "    \n",
    "    # Drawing a rectangle on copied image\n",
    "    rect = cv2.rectangle(img2, (x, y), (x + w, y + h), (0, 255, 0),2)\n",
    "    \n",
    "    # Cropping text block to be fed as input to ocr\n",
    "    cropped = img2[y:y + h, x:x + w]\n",
    "    \n",
    "    # Open the file in append mode\n",
    "    file = open(\"extracted.txt\", \"a\")\n",
    "    \n",
    "    # Apply OCR on the cropped image\n",
    "    text = pytesseract.image_to_string(cropped)\n",
    "    \n",
    "    # Appending the text into file\n",
    "    file.write(text)\n",
    "    file.write(\"\\n\")\n",
    "    \n",
    "    # Close file\n",
    "    file.close"
   ]
  },
  {
   "cell_type": "code",
   "execution_count": null,
   "id": "a0ccbaf7",
   "metadata": {},
   "outputs": [],
   "source": []
  }
 ],
 "metadata": {
  "kernelspec": {
   "display_name": "Python 3 (ipykernel)",
   "language": "python",
   "name": "python3"
  },
  "language_info": {
   "codemirror_mode": {
    "name": "ipython",
    "version": 3
   },
   "file_extension": ".py",
   "mimetype": "text/x-python",
   "name": "python",
   "nbconvert_exporter": "python",
   "pygments_lexer": "ipython3",
   "version": "3.10.2"
  }
 },
 "nbformat": 4,
 "nbformat_minor": 5
}
